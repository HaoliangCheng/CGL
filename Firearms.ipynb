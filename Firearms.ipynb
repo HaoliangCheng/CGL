{
 "cells": [
  {
   "cell_type": "code",
   "execution_count": 4,
   "metadata": {},
   "outputs": [],
   "source": [
    "import pandas as pd\n",
    "\n",
    "firearms = pd.read_csv(\"firearms.csv\", sep=\",\")"
   ]
  },
  {
   "cell_type": "code",
   "execution_count": 12,
   "metadata": {},
   "outputs": [
    {
     "data": {
      "text/plain": [
       "300 BLOCK EAST OHIO ST PITTSBURGH, PA 15212        40\n",
       "1700 BLOCK BELLEAU DR PITTSBURGH, PA 15212         40\n",
       "6500 BLOCK HAMILTON AVE PITTSBURGH, PA 15206       25\n",
       "100 BLOCK RHINE PL PITTSBURGH, PA 15212            23\n",
       "2500 BLOCK CHAUNCEY DR PITTSBURGH, PA 15219        20\n",
       "                                                   ..\n",
       "400 BLOCK E WARRINGTON AVE PITTSBURGH, PA 15210     1\n",
       "1400 BLOCK SANDUSKY STN PITTSBURGH, PA 15212        1\n",
       "200 BLOCK CAPITAL AVE PITTSBURGH, PA 15226          1\n",
       "2700 BLOCK SACRAMENTO AVE PITTSBURGH, PA 15204      1\n",
       "HUBBARD ST & SIPE ST PITTSBURGH, PA 15212           1\n",
       "Name: address, Length: 3033, dtype: int64"
      ]
     },
     "execution_count": 12,
     "metadata": {},
     "output_type": "execute_result"
    }
   ],
   "source": [
    "firearms['address'].unique()\n",
    "firearms['address'].value_counts()"
   ]
  },
  {
   "cell_type": "code",
   "execution_count": 27,
   "metadata": {},
   "outputs": [
    {
     "name": "stdout",
     "output_type": "stream",
     "text": [
      "15212    638\n",
      "15206    466\n",
      "15219    435\n",
      "15210    415\n",
      "15208    347\n",
      "15221    321\n",
      "15214    277\n",
      "15203    242\n",
      "15207    168\n",
      "15204    160\n",
      "15222    122\n",
      "15233    111\n",
      "15224    102\n",
      "15213     93\n",
      "15220     91\n",
      "15226     87\n",
      "15211     85\n",
      "15205     71\n",
      "15216     70\n",
      "15217     64\n",
      "15201     59\n",
      "15227     20\n",
      "15235     18\n",
      "15232     17\n",
      "15234     12\n",
      "15136      7\n",
      "15218      4\n",
      "15120      4\n",
      "15238      4\n",
      "15236      3\n",
      "15145      3\n",
      "15225      2\n",
      "15215      2\n",
      "15065      2\n",
      "15202      2\n",
      "15132      2\n",
      "15146      1\n",
      "15104      1\n",
      "15084      1\n",
      "15131      1\n",
      "15122      1\n",
      "15116      1\n",
      "16001      1\n",
      "15147      1\n",
      "15223      1\n",
      "15106      1\n",
      "15035      1\n",
      "15237      1\n",
      "15241      1\n",
      "15133      1\n",
      "15228      1\n",
      "15102      1\n",
      "15229      1\n",
      "Name: zip_code, dtype: int64\n"
     ]
    }
   ],
   "source": [
    "firearms['zip_code'] = firearms['address'].str.strip().str[-5:]\n",
    "\n",
    "firearms = firearms[pd.to_numeric(firearms['zip_code']).notna()]\n",
    "\n",
    "zip_code_counts = firearms['zip_code'].value_counts()\n",
    "\n",
    "print(zip_code_counts)"
   ]
  }
 ],
 "metadata": {
  "kernelspec": {
   "display_name": "Python 3",
   "language": "python",
   "name": "python3"
  },
  "language_info": {
   "codemirror_mode": {
    "name": "ipython",
    "version": 3
   },
   "file_extension": ".py",
   "mimetype": "text/x-python",
   "name": "python",
   "nbconvert_exporter": "python",
   "pygments_lexer": "ipython3",
   "version": "3.8.3"
  }
 },
 "nbformat": 4,
 "nbformat_minor": 4
}
