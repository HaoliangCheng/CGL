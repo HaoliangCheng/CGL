{
 "cells": [
  {
   "cell_type": "markdown",
   "metadata": {},
   "source": [
    "# Final project\n",
    "\n",
    "## The best neighborhood in Pittsburgh\n",
    "\n",
    "### Haoliang Cheng, Enzo Grappone, Kevin Li\n"
   ]
  },
  {
   "cell_type": "markdown",
   "metadata": {},
   "source": [
    "----"
   ]
  },
  {
   "cell_type": "markdown",
   "metadata": {},
   "source": [
    "### 1. Introduction"
   ]
  },
  {
   "cell_type": "markdown",
   "metadata": {},
   "source": [
    "Our project was to determine the best neighborhood to be in to survive the downfall of civilization. Our method was to create three useful metrics, use the database to determine how well each neighborhood meets the metrics, and pick the neighborhood with the best results.\n",
    "\n",
    "**Scenario**\n",
    "\n",
    "- There was an disaster/apocalypse.\n",
    "\n",
    "- Civilization is no more.\n",
    "\n",
    "- You need to pick a neighborhood in Pittsburgh to survive.\n",
    "\n",
    "**Metrics Used**\n",
    "\n",
    "1. Population:\n",
    "\n",
    "    - Less people means increased safety.\n",
    "\n",
    "    - Less people correlates to more wildlife, which can be used as a source of food.\n",
    "\n",
    "\n",
    "2. Number of Firearms:\n",
    "   \n",
    "    - More firearms means more access to firearms.\n",
    "\n",
    "    - Can be used for personal protection and to hunt for food.\n",
    "\n",
    "\n",
    "3. Number of hospitals\n",
    "\n",
    "    - More hospitals per capita gives increased access to medical supplies.\n",
    "    \n",
    "    - Being close to a hospital could save you in an emergency.\n",
    "\n",
    "**Other Considered Metrics**\n",
    "\n",
    "- Bodies of water was considered because access to water is necessary for survival.\n",
    "\n",
    "- Crime statistics were considered because less crimes could mean that other survivors in the area are friendly and safer.\n",
    "\n",
    "We determined that these metrics were not ideal because water can be accessed from all neighborhoods, even if it is a bit more difficult for some, and the population of an area before the apocalypse doesn't necessarily reflect the population after civilization collapses. So, we determined that the metrics used were best to put us in the best situation to be Rick Grimes.\n",
    "\n",
    "![Rick Grimes](https://consequence.net/wp-content/uploads/2018/05/screen-shot-2018-05-29-at-4-59-25-pm.png?w=1012&h=580&crop=1&resize=1031%2C580&quality=80&strip)"
   ]
  },
  {
   "cell_type": "markdown",
   "metadata": {},
   "source": [
    "### 2. The metric"
   ]
  },
  {
   "cell_type": "markdown",
   "metadata": {},
   "source": [
    "#### 2.1 Import important packages in python"
   ]
  },
  {
   "cell_type": "code",
   "execution_count": 2,
   "metadata": {},
   "outputs": [
    {
     "ename": "ModuleNotFoundError",
     "evalue": "No module named 'fpsnippets'",
     "output_type": "error",
     "traceback": [
      "\u001b[0;31m---------------------------------------------------------------------------\u001b[0m",
      "\u001b[0;31mModuleNotFoundError\u001b[0m                       Traceback (most recent call last)",
      "\u001b[0;32m<ipython-input-2-c90ad5f5f437>\u001b[0m in \u001b[0;36m<module>\u001b[0;34m\u001b[0m\n\u001b[1;32m      2\u001b[0m \u001b[0;32mimport\u001b[0m \u001b[0mnumpy\u001b[0m \u001b[0;32mas\u001b[0m \u001b[0mnp\u001b[0m\u001b[0;34m\u001b[0m\u001b[0;34m\u001b[0m\u001b[0m\n\u001b[1;32m      3\u001b[0m \u001b[0;32mimport\u001b[0m \u001b[0mmatplotlib\u001b[0m\u001b[0;34m.\u001b[0m\u001b[0mpyplot\u001b[0m \u001b[0;32mas\u001b[0m \u001b[0mplt\u001b[0m\u001b[0;34m\u001b[0m\u001b[0;34m\u001b[0m\u001b[0m\n\u001b[0;32m----> 4\u001b[0;31m \u001b[0;32mimport\u001b[0m \u001b[0mfpsnippets\u001b[0m\u001b[0;34m\u001b[0m\u001b[0;34m\u001b[0m\u001b[0m\n\u001b[0m",
      "\u001b[0;31mModuleNotFoundError\u001b[0m: No module named 'fpsnippets'"
     ]
    }
   ],
   "source": [
    "import pandas as pd\n",
    "import numpy as np\n",
    "import matplotlib.pyplot as plt\n",
    "import fpsnippets"
   ]
  },
  {
   "cell_type": "markdown",
   "metadata": {},
   "source": [
    "#### 2.2 Import pupulation dataset"
   ]
  },
  {
   "cell_type": "code",
   "execution_count": null,
   "metadata": {},
   "outputs": [],
   "source": [
    "df_population= pd.read_csv(\"https://data.wprdc.org/dataset/5b18c198-474c-4723-b735-cc5220ad43cc/resource/82f29015-6905-4b1c-8300-afe9bb2231b3/download/total-population.csv\")\n",
    "df_firearms = pd.read_csv(\"https://data.wprdc.org/datastore/dump/e967381d-d7e9-48e3-a2a2-39262f7fa5c4\")\n",
    "df_hospital= pd.read_csv(\"https://data.wprdc.org/dataset/52f87f59-02ed-4f74-9ab9-2c6b9542234d/resource/a11c31cf-a116-4076-8475-c4f185358c2d/download/data-primary-care-access-facilities.csv\")"
   ]
  },
  {
   "cell_type": "markdown",
   "metadata": {},
   "source": [
    "#### 2.3 show dataset in table format"
   ]
  },
  {
   "cell_type": "code",
   "execution_count": 3,
   "metadata": {},
   "outputs": [
    {
     "ename": "NameError",
     "evalue": "name 'df_firearms' is not defined",
     "output_type": "error",
     "traceback": [
      "\u001b[0;31m---------------------------------------------------------------------------\u001b[0m",
      "\u001b[0;31mNameError\u001b[0m                                 Traceback (most recent call last)",
      "\u001b[0;32m<ipython-input-3-1477b06c7897>\u001b[0m in \u001b[0;36m<module>\u001b[0;34m\u001b[0m\n\u001b[0;32m----> 1\u001b[0;31m \u001b[0mneighborhood_counts\u001b[0m \u001b[0;34m=\u001b[0m \u001b[0mdf_firearms\u001b[0m\u001b[0;34m[\u001b[0m\u001b[0;34m'neighborhood'\u001b[0m\u001b[0;34m]\u001b[0m\u001b[0;34m.\u001b[0m\u001b[0mvalue_counts\u001b[0m\u001b[0;34m(\u001b[0m\u001b[0;34m)\u001b[0m\u001b[0;34m\u001b[0m\u001b[0;34m\u001b[0m\u001b[0m\n\u001b[0m\u001b[1;32m      2\u001b[0m \u001b[0mdf_firearm\u001b[0m \u001b[0;34m=\u001b[0m \u001b[0mpd\u001b[0m\u001b[0;34m.\u001b[0m\u001b[0mDataFrame\u001b[0m\u001b[0;34m(\u001b[0m\u001b[0;34m{\u001b[0m\u001b[0;34m'Neighborhood'\u001b[0m\u001b[0;34m:\u001b[0m\u001b[0mneighborhood_counts\u001b[0m\u001b[0;34m.\u001b[0m\u001b[0mindex\u001b[0m\u001b[0;34m,\u001b[0m\u001b[0;34m'Firearms_count'\u001b[0m\u001b[0;34m:\u001b[0m\u001b[0mneighborhood_counts\u001b[0m\u001b[0;34m.\u001b[0m\u001b[0mvalues\u001b[0m\u001b[0;34m}\u001b[0m\u001b[0;34m)\u001b[0m\u001b[0;34m\u001b[0m\u001b[0;34m\u001b[0m\u001b[0m\n",
      "\u001b[0;31mNameError\u001b[0m: name 'df_firearms' is not defined"
     ]
    }
   ],
   "source": [
    "neighborhood_counts = df_firearms['neighborhood'].value_counts()\n",
    "df_firearm = pd.DataFrame({'Neighborhood':neighborhood_counts.index,'Firearms_count':neighborhood_counts.values})"
   ]
  },
  {
   "cell_type": "code",
   "execution_count": 4,
   "metadata": {},
   "outputs": [
    {
     "ename": "NameError",
     "evalue": "name 'df_hospital' is not defined",
     "output_type": "error",
     "traceback": [
      "\u001b[0;31m---------------------------------------------------------------------------\u001b[0m",
      "\u001b[0;31mNameError\u001b[0m                                 Traceback (most recent call last)",
      "\u001b[0;32m<ipython-input-4-746777d37ce6>\u001b[0m in \u001b[0;36m<module>\u001b[0;34m\u001b[0m\n\u001b[0;32m----> 1\u001b[0;31m \u001b[0;32mfor\u001b[0m \u001b[0mindex\u001b[0m\u001b[0;34m,\u001b[0m \u001b[0mrow\u001b[0m \u001b[0;32min\u001b[0m \u001b[0mdf_hospital\u001b[0m\u001b[0;34m.\u001b[0m\u001b[0miterrows\u001b[0m\u001b[0;34m(\u001b[0m\u001b[0;34m)\u001b[0m\u001b[0;34m:\u001b[0m\u001b[0;34m\u001b[0m\u001b[0;34m\u001b[0m\u001b[0m\n\u001b[0m\u001b[1;32m      2\u001b[0m   \u001b[0mdf_hospital\u001b[0m\u001b[0;34m.\u001b[0m\u001b[0mloc\u001b[0m\u001b[0;34m[\u001b[0m\u001b[0mindex\u001b[0m\u001b[0;34m,\u001b[0m\u001b[0;34m'neighborhood'\u001b[0m\u001b[0;34m]\u001b[0m\u001b[0;34m=\u001b[0m\u001b[0mfpsnippets\u001b[0m\u001b[0;34m.\u001b[0m\u001b[0mgeo_to_neighborhood\u001b[0m\u001b[0;34m(\u001b[0m\u001b[0mrow\u001b[0m\u001b[0;34m[\u001b[0m\u001b[0;34m'Latitude'\u001b[0m\u001b[0;34m]\u001b[0m\u001b[0;34m,\u001b[0m\u001b[0mrow\u001b[0m\u001b[0;34m[\u001b[0m\u001b[0;34m'Longitude'\u001b[0m\u001b[0;34m]\u001b[0m\u001b[0;34m)\u001b[0m\u001b[0;34m\u001b[0m\u001b[0;34m\u001b[0m\u001b[0m\n\u001b[1;32m      3\u001b[0m \u001b[0;34m\u001b[0m\u001b[0m\n\u001b[1;32m      4\u001b[0m \u001b[0mneighborhood_hpcounts\u001b[0m \u001b[0;34m=\u001b[0m \u001b[0mdf_hospital\u001b[0m\u001b[0;34m[\u001b[0m\u001b[0;34m'neighborhood'\u001b[0m\u001b[0;34m]\u001b[0m\u001b[0;34m.\u001b[0m\u001b[0mvalue_counts\u001b[0m\u001b[0;34m(\u001b[0m\u001b[0;34m)\u001b[0m\u001b[0;34m\u001b[0m\u001b[0;34m\u001b[0m\u001b[0m\n\u001b[1;32m      5\u001b[0m \u001b[0mdf_hospital_count\u001b[0m\u001b[0;34m=\u001b[0m \u001b[0mpd\u001b[0m\u001b[0;34m.\u001b[0m\u001b[0mDataFrame\u001b[0m\u001b[0;34m(\u001b[0m\u001b[0;34m{\u001b[0m\u001b[0;34m'Neighborhood'\u001b[0m\u001b[0;34m:\u001b[0m\u001b[0mneighborhood_hpcounts\u001b[0m\u001b[0;34m.\u001b[0m\u001b[0mindex\u001b[0m\u001b[0;34m,\u001b[0m\u001b[0;34m'Hospital_count'\u001b[0m\u001b[0;34m:\u001b[0m\u001b[0mneighborhood_hpcounts\u001b[0m\u001b[0;34m.\u001b[0m\u001b[0mvalues\u001b[0m\u001b[0;34m}\u001b[0m\u001b[0;34m)\u001b[0m\u001b[0;34m\u001b[0m\u001b[0;34m\u001b[0m\u001b[0m\n",
      "\u001b[0;31mNameError\u001b[0m: name 'df_hospital' is not defined"
     ]
    }
   ],
   "source": [
    "for index, row in df_hospital.iterrows():\n",
    "  df_hospital.loc[index,'neighborhood']=fpsnippets.geo_to_neighborhood(row['Latitude'],row['Longitude'])\n",
    "\n",
    "neighborhood_hpcounts = df_hospital['neighborhood'].value_counts()\n",
    "df_hospital_count= pd.DataFrame({'Neighborhood':neighborhood_hpcounts.index,'Hospital_count':neighborhood_hpcounts.values})\n",
    "df_averagehospital=pd.merge(df_population, df_hospital_count,on='Neighborhood',how='outer')\n",
    "df_averagehospital['AverageHospital'] =  df_averagehospital['Hospital_count']/df_averagehospital['Estimate; Total']\n",
    "df_averagehospital_sorted = df_averagehospital.sort_values(['AverageHospital'], ascending=False)\n",
    "df_averagehospital_sorted\n"
   ]
  },
  {
   "cell_type": "code",
   "execution_count": 5,
   "metadata": {},
   "outputs": [
    {
     "ename": "NameError",
     "evalue": "name 'df_population' is not defined",
     "output_type": "error",
     "traceback": [
      "\u001b[0;31m---------------------------------------------------------------------------\u001b[0m",
      "\u001b[0;31mNameError\u001b[0m                                 Traceback (most recent call last)",
      "\u001b[0;32m<ipython-input-5-cd6b04365874>\u001b[0m in \u001b[0;36m<module>\u001b[0;34m\u001b[0m\n\u001b[0;32m----> 1\u001b[0;31m \u001b[0mdf_averagefirearms\u001b[0m\u001b[0;34m=\u001b[0m\u001b[0mpd\u001b[0m\u001b[0;34m.\u001b[0m\u001b[0mmerge\u001b[0m\u001b[0;34m(\u001b[0m\u001b[0mdf_population\u001b[0m\u001b[0;34m,\u001b[0m \u001b[0mdf_firearm\u001b[0m\u001b[0;34m,\u001b[0m\u001b[0mon\u001b[0m\u001b[0;34m=\u001b[0m\u001b[0;34m'Neighborhood'\u001b[0m\u001b[0;34m,\u001b[0m\u001b[0mhow\u001b[0m\u001b[0;34m=\u001b[0m\u001b[0;34m'outer'\u001b[0m\u001b[0;34m)\u001b[0m\u001b[0;34m\u001b[0m\u001b[0;34m\u001b[0m\u001b[0m\n\u001b[0m\u001b[1;32m      2\u001b[0m \u001b[0mdf_averagefirearms\u001b[0m\u001b[0;34m[\u001b[0m\u001b[0;34m'AverageFirearms'\u001b[0m\u001b[0;34m]\u001b[0m \u001b[0;34m=\u001b[0m  \u001b[0mdf_averagefirearms\u001b[0m\u001b[0;34m[\u001b[0m\u001b[0;34m'Firearms_count'\u001b[0m\u001b[0;34m]\u001b[0m\u001b[0;34m/\u001b[0m\u001b[0mdf_averagefirearms\u001b[0m\u001b[0;34m[\u001b[0m\u001b[0;34m'Estimate; Total'\u001b[0m\u001b[0;34m]\u001b[0m\u001b[0;34m\u001b[0m\u001b[0;34m\u001b[0m\u001b[0m\n\u001b[1;32m      3\u001b[0m \u001b[0mdf_averagefirearms_sorted\u001b[0m \u001b[0;34m=\u001b[0m \u001b[0mdf_averagefirearms\u001b[0m\u001b[0;34m.\u001b[0m\u001b[0msort_values\u001b[0m\u001b[0;34m(\u001b[0m\u001b[0;34m[\u001b[0m\u001b[0;34m'AverageFirearms'\u001b[0m\u001b[0;34m]\u001b[0m\u001b[0;34m,\u001b[0m \u001b[0mascending\u001b[0m\u001b[0;34m=\u001b[0m\u001b[0;32mFalse\u001b[0m\u001b[0;34m)\u001b[0m\u001b[0;34m\u001b[0m\u001b[0;34m\u001b[0m\u001b[0m\n\u001b[1;32m      4\u001b[0m \u001b[0mdf_averagefirearms_sorted\u001b[0m\u001b[0;34m\u001b[0m\u001b[0;34m\u001b[0m\u001b[0m\n",
      "\u001b[0;31mNameError\u001b[0m: name 'df_population' is not defined"
     ]
    }
   ],
   "source": [
    "df_averagefirearms=pd.merge(df_population, df_firearm,on='Neighborhood',how='outer')\n",
    "df_averagefirearms['AverageFirearms'] =  df_averagefirearms['Firearms_count']/df_averagefirearms['Estimate; Total']\n",
    "df_averagefirearms_sorted = df_averagefirearms.sort_values(['AverageFirearms'], ascending=False)\n",
    "df_averagefirearms_sorted"
   ]
  },
  {
   "cell_type": "code",
   "execution_count": 6,
   "metadata": {},
   "outputs": [
    {
     "ename": "NameError",
     "evalue": "name 'df_averagefirearms' is not defined",
     "output_type": "error",
     "traceback": [
      "\u001b[0;31m---------------------------------------------------------------------------\u001b[0m",
      "\u001b[0;31mNameError\u001b[0m                                 Traceback (most recent call last)",
      "\u001b[0;32m<ipython-input-6-4fd700a80c4d>\u001b[0m in \u001b[0;36m<module>\u001b[0;34m\u001b[0m\n\u001b[0;32m----> 1\u001b[0;31m \u001b[0mdf_total\u001b[0m\u001b[0;34m=\u001b[0m\u001b[0mdf_averagefirearms\u001b[0m\u001b[0;34m+\u001b[0m\u001b[0mdf_averagehospital\u001b[0m\u001b[0;34m\u001b[0m\u001b[0;34m\u001b[0m\u001b[0m\n\u001b[0m\u001b[1;32m      2\u001b[0m \u001b[0mdf_total\u001b[0m\u001b[0;34m=\u001b[0m\u001b[0mpd\u001b[0m\u001b[0;34m.\u001b[0m\u001b[0mconcat\u001b[0m\u001b[0;34m(\u001b[0m\u001b[0;34m[\u001b[0m\u001b[0mdf_averagefirearms\u001b[0m\u001b[0;34m,\u001b[0m\u001b[0mdf_averagehospital\u001b[0m\u001b[0;34m]\u001b[0m\u001b[0;34m,\u001b[0m \u001b[0mjoin\u001b[0m\u001b[0;34m=\u001b[0m\u001b[0;34m'inner'\u001b[0m\u001b[0;34m)\u001b[0m\u001b[0;34m\u001b[0m\u001b[0;34m\u001b[0m\u001b[0m\n\u001b[1;32m      3\u001b[0m \u001b[0mdf_total\u001b[0m\u001b[0;34m\u001b[0m\u001b[0;34m\u001b[0m\u001b[0m\n",
      "\u001b[0;31mNameError\u001b[0m: name 'df_averagefirearms' is not defined"
     ]
    }
   ],
   "source": [
    "df_total=df_averagefirearms+df_averagehospital\n",
    "df_total=pd.concat([df_averagefirearms,df_averagehospital], join='inner')\n",
    "df_total"
   ]
  },
  {
   "cell_type": "markdown",
   "metadata": {},
   "source": [
    "#### 2.4  show dataset in graph format"
   ]
  },
  {
   "cell_type": "code",
   "execution_count": 7,
   "metadata": {},
   "outputs": [
    {
     "ename": "NameError",
     "evalue": "name 'df_total' is not defined",
     "output_type": "error",
     "traceback": [
      "\u001b[0;31m---------------------------------------------------------------------------\u001b[0m",
      "\u001b[0;31mNameError\u001b[0m                                 Traceback (most recent call last)",
      "\u001b[0;32m<ipython-input-7-2f8896c86120>\u001b[0m in \u001b[0;36m<module>\u001b[0;34m\u001b[0m\n\u001b[0;32m----> 1\u001b[0;31m \u001b[0mdf_total_firearmSort\u001b[0m\u001b[0;34m=\u001b[0m\u001b[0mdf_total\u001b[0m\u001b[0;34m.\u001b[0m\u001b[0msort_values\u001b[0m\u001b[0;34m(\u001b[0m\u001b[0;34m[\u001b[0m\u001b[0;34m'AverageFirearms'\u001b[0m\u001b[0;34m]\u001b[0m\u001b[0;34m,\u001b[0m \u001b[0mascending\u001b[0m\u001b[0;34m=\u001b[0m\u001b[0;32mFalse\u001b[0m\u001b[0;34m)\u001b[0m\u001b[0;34m\u001b[0m\u001b[0;34m\u001b[0m\u001b[0m\n\u001b[0m\u001b[1;32m      2\u001b[0m \u001b[0mfig\u001b[0m \u001b[0;34m=\u001b[0m \u001b[0mplt\u001b[0m\u001b[0;34m.\u001b[0m\u001b[0mfigure\u001b[0m\u001b[0;34m(\u001b[0m\u001b[0mfigsize\u001b[0m\u001b[0;34m=\u001b[0m\u001b[0;34m(\u001b[0m\u001b[0;36m10\u001b[0m\u001b[0;34m,\u001b[0m \u001b[0;36m6\u001b[0m\u001b[0;34m)\u001b[0m\u001b[0;34m)\u001b[0m\u001b[0;34m\u001b[0m\u001b[0;34m\u001b[0m\u001b[0m\n\u001b[1;32m      3\u001b[0m \u001b[0mplt\u001b[0m\u001b[0;34m.\u001b[0m\u001b[0mbar\u001b[0m\u001b[0;34m(\u001b[0m\u001b[0mrange\u001b[0m\u001b[0;34m(\u001b[0m\u001b[0mlen\u001b[0m\u001b[0;34m(\u001b[0m\u001b[0mdf_total_firearmSort\u001b[0m\u001b[0;34m[\u001b[0m\u001b[0;34m'Neighborhood'\u001b[0m\u001b[0;34m]\u001b[0m\u001b[0;34m)\u001b[0m\u001b[0;34m)\u001b[0m\u001b[0;34m,\u001b[0m\u001b[0mdf_total_firearmSort\u001b[0m\u001b[0;34m[\u001b[0m\u001b[0;34m'AverageFirearms'\u001b[0m\u001b[0;34m]\u001b[0m\u001b[0;34m,\u001b[0m \u001b[0malign\u001b[0m \u001b[0;34m=\u001b[0m \u001b[0;34m'center'\u001b[0m\u001b[0;34m)\u001b[0m\u001b[0;34m\u001b[0m\u001b[0;34m\u001b[0m\u001b[0m\n\u001b[1;32m      4\u001b[0m plt.xticks(range(len(df_total_firearmSort['Neighborhood'])), df_total_firearmSort['Neighborhood'],\\\n\u001b[1;32m      5\u001b[0m                rotation = 90, fontsize = 8)\n",
      "\u001b[0;31mNameError\u001b[0m: name 'df_total' is not defined"
     ]
    }
   ],
   "source": [
    "df_total_firearmSort=df_total.sort_values(['AverageFirearms'], ascending=False)\n",
    "fig = plt.figure(figsize=(10, 6))\n",
    "plt.bar(range(len(df_total_firearmSort['Neighborhood'])),df_total_firearmSort['AverageFirearms'], align = 'center')\n",
    "plt.xticks(range(len(df_total_firearmSort['Neighborhood'])), df_total_firearmSort['Neighborhood'],\\\n",
    "               rotation = 90, fontsize = 8)\n",
    "plt.xlabel('Neighborhood name')\n",
    "plt.ylabel('Firearms per capita')\n",
    "plt.title('Firearms per capita in different neighborhood in Pittsburgh')\n",
    "plt.show()"
   ]
  },
  {
   "cell_type": "code",
   "execution_count": 8,
   "metadata": {},
   "outputs": [
    {
     "ename": "NameError",
     "evalue": "name 'df_total' is not defined",
     "output_type": "error",
     "traceback": [
      "\u001b[0;31m---------------------------------------------------------------------------\u001b[0m",
      "\u001b[0;31mNameError\u001b[0m                                 Traceback (most recent call last)",
      "\u001b[0;32m<ipython-input-8-4bfdee5f3042>\u001b[0m in \u001b[0;36m<module>\u001b[0;34m\u001b[0m\n\u001b[0;32m----> 1\u001b[0;31m \u001b[0mdf_total_hospitalSort\u001b[0m\u001b[0;34m=\u001b[0m\u001b[0mdf_total\u001b[0m\u001b[0;34m.\u001b[0m\u001b[0msort_values\u001b[0m\u001b[0;34m(\u001b[0m\u001b[0;34m[\u001b[0m\u001b[0;34m'AverageHospital'\u001b[0m\u001b[0;34m]\u001b[0m\u001b[0;34m,\u001b[0m \u001b[0mascending\u001b[0m\u001b[0;34m=\u001b[0m\u001b[0;32mFalse\u001b[0m\u001b[0;34m)\u001b[0m\u001b[0;34m\u001b[0m\u001b[0;34m\u001b[0m\u001b[0m\n\u001b[0m\u001b[1;32m      2\u001b[0m \u001b[0mfig\u001b[0m \u001b[0;34m=\u001b[0m \u001b[0mplt\u001b[0m\u001b[0;34m.\u001b[0m\u001b[0mfigure\u001b[0m\u001b[0;34m(\u001b[0m\u001b[0mfigsize\u001b[0m\u001b[0;34m=\u001b[0m\u001b[0;34m(\u001b[0m\u001b[0;36m10\u001b[0m\u001b[0;34m,\u001b[0m \u001b[0;36m6\u001b[0m\u001b[0;34m)\u001b[0m\u001b[0;34m)\u001b[0m\u001b[0;34m\u001b[0m\u001b[0;34m\u001b[0m\u001b[0m\n\u001b[1;32m      3\u001b[0m \u001b[0mplt\u001b[0m\u001b[0;34m.\u001b[0m\u001b[0mbar\u001b[0m\u001b[0;34m(\u001b[0m\u001b[0mrange\u001b[0m\u001b[0;34m(\u001b[0m\u001b[0mlen\u001b[0m\u001b[0;34m(\u001b[0m\u001b[0mdf_total_hospitalSort\u001b[0m\u001b[0;34m[\u001b[0m\u001b[0;34m'Neighborhood'\u001b[0m\u001b[0;34m]\u001b[0m\u001b[0;34m)\u001b[0m\u001b[0;34m)\u001b[0m\u001b[0;34m,\u001b[0m\u001b[0mdf_total_hospitalSort\u001b[0m\u001b[0;34m[\u001b[0m\u001b[0;34m'AverageHospital'\u001b[0m\u001b[0;34m]\u001b[0m\u001b[0;34m,\u001b[0m \u001b[0malign\u001b[0m \u001b[0;34m=\u001b[0m \u001b[0;34m'center'\u001b[0m\u001b[0;34m)\u001b[0m\u001b[0;34m\u001b[0m\u001b[0;34m\u001b[0m\u001b[0m\n\u001b[1;32m      4\u001b[0m plt.xticks(range(len(df_total_hospitalSort['Neighborhood'])), df_total_hospitalSort['Neighborhood'],\\\n\u001b[1;32m      5\u001b[0m                rotation = 90, fontsize = 8)\n",
      "\u001b[0;31mNameError\u001b[0m: name 'df_total' is not defined"
     ]
    }
   ],
   "source": [
    "df_total_hospitalSort=df_total.sort_values(['AverageHospital'], ascending=False)\n",
    "fig = plt.figure(figsize=(10, 6))\n",
    "plt.bar(range(len(df_total_hospitalSort['Neighborhood'])),df_total_hospitalSort['AverageHospital'], align = 'center')\n",
    "plt.xticks(range(len(df_total_hospitalSort['Neighborhood'])), df_total_hospitalSort['Neighborhood'],\\\n",
    "               rotation = 90, fontsize = 8)\n",
    "plt.xlabel('Neighborhood name')\n",
    "plt.ylabel('Hospital per capita')\n",
    "plt.title('Hospital per capita in different neighborhood in Pittsburgh')\n",
    "plt.show()"
   ]
  },
  {
   "cell_type": "markdown",
   "metadata": {},
   "source": [
    "#### 2.5 Data Analysis"
   ]
  },
  {
   "cell_type": "code",
   "execution_count": 9,
   "metadata": {},
   "outputs": [
    {
     "ename": "NameError",
     "evalue": "name 'df_averagefirearms_sorted' is not defined",
     "output_type": "error",
     "traceback": [
      "\u001b[0;31m---------------------------------------------------------------------------\u001b[0m",
      "\u001b[0;31mNameError\u001b[0m                                 Traceback (most recent call last)",
      "\u001b[0;32m<ipython-input-9-0d9566b76868>\u001b[0m in \u001b[0;36m<module>\u001b[0;34m\u001b[0m\n\u001b[0;32m----> 1\u001b[0;31m \u001b[0mmin_population\u001b[0m\u001b[0;34m=\u001b[0m\u001b[0mdf_averagefirearms_sorted\u001b[0m\u001b[0;34m[\u001b[0m\u001b[0;34m'Estimate; Total'\u001b[0m\u001b[0;34m]\u001b[0m\u001b[0;34m.\u001b[0m\u001b[0mmin\u001b[0m\u001b[0;34m(\u001b[0m\u001b[0;34m)\u001b[0m\u001b[0;34m\u001b[0m\u001b[0;34m\u001b[0m\u001b[0m\n\u001b[0m\u001b[1;32m      2\u001b[0m \u001b[0mprint\u001b[0m\u001b[0;34m(\u001b[0m\u001b[0;34m\"The min population neighborhood is \"\u001b[0m\u001b[0;34m+\u001b[0m\u001b[0mstr\u001b[0m\u001b[0;34m(\u001b[0m\u001b[0mmin_population\u001b[0m\u001b[0;34m)\u001b[0m\u001b[0;34m+\u001b[0m\u001b[0;34m\". It is Chateau.\"\u001b[0m\u001b[0;34m)\u001b[0m\u001b[0;34m\u001b[0m\u001b[0;34m\u001b[0m\u001b[0m\n\u001b[1;32m      3\u001b[0m \u001b[0mmax_firearms\u001b[0m\u001b[0;34m=\u001b[0m\u001b[0mdf_averagefirearms_sorted\u001b[0m\u001b[0;34m[\u001b[0m\u001b[0;34m'Firearms_count'\u001b[0m\u001b[0;34m]\u001b[0m\u001b[0;34m.\u001b[0m\u001b[0mmax\u001b[0m\u001b[0;34m(\u001b[0m\u001b[0;34m)\u001b[0m\u001b[0;34m\u001b[0m\u001b[0;34m\u001b[0m\u001b[0m\n\u001b[1;32m      4\u001b[0m \u001b[0mprint\u001b[0m\u001b[0;34m(\u001b[0m\u001b[0;34m\"The neighborhood with max number of firearms is \"\u001b[0m\u001b[0;34m+\u001b[0m\u001b[0mstr\u001b[0m\u001b[0;34m(\u001b[0m\u001b[0mmax_firearms\u001b[0m\u001b[0;34m)\u001b[0m\u001b[0;34m+\u001b[0m\u001b[0;34m\". It is Homewood South.\"\u001b[0m\u001b[0;34m)\u001b[0m\u001b[0;34m\u001b[0m\u001b[0;34m\u001b[0m\u001b[0m\n\u001b[1;32m      5\u001b[0m \u001b[0mmax_average_firearms\u001b[0m\u001b[0;34m=\u001b[0m\u001b[0mdf_averagefirearms_sorted\u001b[0m\u001b[0;34m[\u001b[0m\u001b[0;34m'AverageFirearms'\u001b[0m\u001b[0;34m]\u001b[0m\u001b[0;34m.\u001b[0m\u001b[0mmax\u001b[0m\u001b[0;34m(\u001b[0m\u001b[0;34m)\u001b[0m\u001b[0;34m\u001b[0m\u001b[0;34m\u001b[0m\u001b[0m\n",
      "\u001b[0;31mNameError\u001b[0m: name 'df_averagefirearms_sorted' is not defined"
     ]
    }
   ],
   "source": [
    "min_population=df_averagefirearms_sorted['Estimate; Total'].min()\n",
    "print(\"The min population neighborhood is \"+str(min_population)+\". It is Chateau.\")\n",
    "max_firearms=df_averagefirearms_sorted['Firearms_count'].max()\n",
    "print(\"The neighborhood with max number of firearms is \"+str(max_firearms)+\". It is Homewood South.\")\n",
    "max_average_firearms=df_averagefirearms_sorted['AverageFirearms'].max()\n",
    "print(\"The neighborhood with max number of firearms per capita is \"+str(max_average_firearms)+\". It is Chateau.\")\n",
    "\n",
    "max_hospital=df_averagehospital_sorted['Hospital_count'].max()\n",
    "print(\"The neighborhood with max number of hospital is \"+str(max_hospital)+\". It is West Oakland.\")\n",
    "max_average_hospital=df_averagehospital_sorted['AverageHospital'].max()\n",
    "print(\"The neighborhood with max number of hospital per capita is \"+str(max_average_hospital)+\". It is Chateau.\")"
   ]
  },
  {
   "cell_type": "markdown",
   "metadata": {},
   "source": [
    "### 3. The Best Neighborhood\n",
    "In the our project, the **Chateau** has the least people, the max number of firearms per capita and the max number of hospital per capita. \n",
    "Therefore, it is the \"Best\" neighborhood in Pittsburgh."
   ]
  },
  {
   "cell_type": "markdown",
   "metadata": {},
   "source": [
    "### 4. Conclusion"
   ]
  },
  {
   "cell_type": "markdown",
   "metadata": {},
   "source": [
    "Haoliang Cheng: The data-driven determination of best-Neighborhood is the same as my personal best neighborhood. \n",
    "\n",
    "Enzo Grappone: The data-driven determination is different than the determination based on the firearms metric. I think that the data-driven determination is more accurate, and even shows \n",
    "\n",
    "Kevin Li:"
   ]
  }
 ],
 "metadata": {
  "kernelspec": {
   "display_name": "Python 3",
   "language": "python",
   "name": "python3"
  },
  "language_info": {
   "codemirror_mode": {
    "name": "ipython",
    "version": 3
   },
   "file_extension": ".py",
   "mimetype": "text/x-python",
   "name": "python",
   "nbconvert_exporter": "python",
   "pygments_lexer": "ipython3",
   "version": "3.8.3"
  },
  "vscode": {
   "interpreter": {
    "hash": "75e4a6a75c2bafdb358241a31c28830e81db8b6e5287e59fc181d3e0eb9324ab"
   }
  }
 },
 "nbformat": 4,
 "nbformat_minor": 4
}
